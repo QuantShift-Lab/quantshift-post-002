{
 "cells": [
  {
   "metadata": {},
   "cell_type": "markdown",
   "source": [
    "# When Options Have Slope: A Visual Guide to Call and Put Derivatives\n",
    "\n",
    "*“Wait... you can take the derivative of a call option?”*\n",
    "\n",
    "Turns out, not only **can you**, but doing so reveals the logic behind how option payoffs behave — and why they behave that way.\n",
    "\n",
    "In this notebook, we’ll explore the **derivatives of the basic call and put payoff functions** — not using stochastic models or PDEs, but just pure, visual calculus.\n",
    "\n",
    "This is part of my ongoing **Pencils & Python** series, where I document math and finance concepts as I work through foundational material in quant finance.\n"
   ],
   "id": "35929efdb3058072"
  },
  {
   "metadata": {},
   "cell_type": "markdown",
   "source": [
    "## What Are Call and Put Options?\n",
    "\n",
    "Before we dive into slopes and calculus, let’s briefly recap what these options actually are:\n",
    "\n",
    "- A **call option** gives the holder the *right* (but not the obligation) to **buy** an asset at a specified price (called the **strike price**) before or at expiration.\n",
    "\n",
    "Think of it like this: You have the right to buy a stock at 100 dollars even when its price rises to 120 dollars, letting you profit the difference.\n",
    "\n",
    "- A **put option** gives the holder the right to **sell** an asset at the strike price.\n",
    "\n",
    "  If the market price drops to 80 dollars, but your put lets you sell at 100 dollars, you just profited 20 dollars.\n",
    "\n",
    "In this post, we’re going to look at their **payoff functions** — the formulas that tell us how much these options are worth at expiration — and see how we can understand their behavior using basic calculus.\n"
   ],
   "id": "36e18bac80722052"
  },
  {
   "metadata": {},
   "cell_type": "markdown",
   "source": [
    "## What Do These Options *Actually* Pay You?\n",
    "\n",
    "Now, let’s talk about what these things are worth when they *really matter* — at expiration.\n",
    "\n",
    "A **call option** is like locking in a deal to **buy low** in case the market goes high. You’re not obligated to use it — but if it’s a good deal, you’ll take it.\n",
    "\n",
    "The formula for the value of a call at expiration is:\n",
    "\n",
    "$$\n",
    "\\text{Call Payoff} = \\max(S_T - K, 0)\n",
    "$$\n",
    "\n",
    "Basically:\n",
    "> “If the stock price \\( S_T \\) ends up above the strike price \\( K \\), I pocket the difference. If not? Meh. I walk away.”\n",
    "\n",
    "A **put option** is the opposite — it lets you **sell high**, even if the market tanks. It’s like having insurance on your shares.\n",
    "\n",
    "$$\n",
    "\\text{Put Payoff} = \\max(K - S_T, 0)\n",
    "$$\n",
    "\n",
    "So if the stock crashes? Your put gets more valuable. If the stock holds strong? The put is worth nothing — but that’s okay, you didn’t need the safety net.\n",
    "\n",
    "---\n",
    "\n",
    "In Python, we can express both payoffs using NumPy like this:\n",
    "\n"
   ],
   "id": "5784f65977ea9cfb"
  },
  {
   "metadata": {
    "ExecuteTime": {
     "end_time": "2025-03-30T23:02:58.149852Z",
     "start_time": "2025-03-30T23:02:58.142906Z"
    }
   },
   "cell_type": "code",
   "source": [
    "call_payoff = np.maximum(S - K, 0)\n",
    "put_payoff = np.maximum(K - S, 0)\n"
   ],
   "id": "810f1ce261465d74",
   "outputs": [],
   "execution_count": 3
  },
  {
   "metadata": {},
   "cell_type": "markdown",
   "source": [
    "## So... What Happens When We Look at the Slope?\n",
    "\n",
    "Okay, so we’ve got these payoff functions — clean, piecewise, kind of like financial “if-then” statements.\n",
    "\n",
    "But here’s the question that kicked off this whole notebook for me:\n",
    "\n",
    "> What happens if we take the **derivative** of these payoffs?\n",
    "\n",
    "Sounds simple enough, right? But what we’re really asking is:\n",
    "\n",
    "- *How fast does the value of the option change?*\n",
    "- *At what point does the option “come alive”?*\n",
    "- *And what does that slope actually tell us about market behavior?*\n",
    "\n",
    "That’s where this gets fun — because we can use basic calculus to uncover the **behavioral turning point** baked into every option contract.\n",
    "\n",
    "Let’s start by modeling those slopes.\n"
   ],
   "id": "a1fa0729eb2d09be"
  },
  {
   "metadata": {},
   "cell_type": "code",
   "outputs": [],
   "execution_count": null,
   "source": [
    "# Slope of the call payoff\n",
    "call_slope = np.where(S < K, 0, 1)\n",
    "\n",
    "# Slope of the put payoff\n",
    "put_slope = np.where(S < K, -1, 0)\n"
   ],
   "id": "992c4059532086c5"
  },
  {
   "metadata": {},
   "cell_type": "markdown",
   "source": [
    "## What These Slopes Actually Tell Us\n",
    "\n",
    "Let’s decode what those slope values mean in plain English.\n",
    "\n",
    "### 📈 For a **call option**:\n",
    "\n",
    "- **Before the strike**:\n",
    "  The option is worthless — no one wants to pay more than market price.\n",
    "  → The slope is **0**. No change, no value.\n",
    "\n",
    "- **After the strike**:\n",
    "  The option gains a dollar for every dollar increase in stock price.\n",
    "  → The slope jumps to **1**. It's fully “in the money” now.\n",
    "\n",
    "### 📉 For a **put option**:\n",
    "\n",
    "- **Before the strike**:\n",
    "  You’re in the money — the lower the stock goes, the more valuable the option.\n",
    "  → The slope is **–1**. Price drops, payoff rises.\n",
    "\n",
    "- **After the strike**:\n",
    "  The put becomes worthless — you wouldn’t exercise the right to sell high if the market is already high.\n",
    "  → The slope flattens to **0**.\n",
    "\n",
    "---\n",
    "\n",
    "So even though the payoff functions have a **“kink”** at the strike price (meaning they’re not differentiable exactly at that point), they still have **clear, simple slopes everywhere else**.\n",
    "\n",
    "And now… let’s see that behavior in action with a plot.\n"
   ],
   "id": "451334380237531a"
  },
  {
   "metadata": {},
   "cell_type": "markdown",
   "source": [
    "## Seeing the Slopes in Action\n",
    "\n",
    "We used Python and a couple of popular libraries — **NumPy** for math and **Matplotlib** for plotting — to bring these payoff functions to life.\n",
    "\n",
    "Rather than walk through all the code (you can [check it out on GitHub](https://github.com/QuantShift-Lab/quantshift-post-002), here’s what we plotted:\n",
    "\n",
    "- **Call and put option payoffs** side-by-side\n",
    "- Their **first derivatives** — showing how the slope changes before and after the strike\n",
    "\n",
    "Here’s the result:\n"
   ],
   "id": "60dc11a4e7079b80"
  },
  {
   "metadata": {},
   "cell_type": "markdown",
   "source": "### Placeholder for image",
   "id": "688e5440ef430905"
  },
  {
   "metadata": {},
   "cell_type": "markdown",
   "source": [
    "## Wrapping It All Together\n",
    "\n",
    "Options may seem like abstract financial instruments — but when you break them down into their **payoff functions**, and then zoom in on their **slopes**, you start to see the logic underneath:\n",
    "\n",
    "- A **call option** doesn’t care what the stock is doing until it crosses the strike — then it springs to life, gaining dollar-for-dollar.\n",
    "- A **put option** is the opposite: full of value when the stock is low, but loses its edge once the price rises.\n",
    "\n",
    "And here’s the cool part:\n",
    "This isn't just math. It's **behavior**.\n",
    "These slopes — these simple little pieces of calculus — **tell the story of incentives**, of risk, of leverage. They're the fingerprints of how options respond to the market.\n",
    "\n",
    "---\n",
    "\n",
    "I hope this post gave you a clearer, more intuitive understanding of how options behave — and how calculus helps us decode them.\n",
    "\n",
    "Want to dig deeper? The full code and notebook are available here:\n",
    "👉 [GitHub: quantshift_post_002](https://github.com/QuantShift-Lab/quantshift-post-002)\n",
    "\n",
    "This post is part of my **Pencils & Python** series — documenting what I’m learning as I explore the intersection of **math, modeling, and markets**.\n",
    "\n",
    "In upcoming posts, I’ll be working through calculus, linear algebra, and stochastic modeling techniques as I build toward more advanced topics in option pricing and algorithmic trading.\n",
    "\n",
    "Thanks for reading! 🚀\n"
   ],
   "id": "aca3af0935636cb6"
  },
  {
   "metadata": {},
   "cell_type": "code",
   "outputs": [],
   "execution_count": null,
   "source": "",
   "id": "ead22bc7905c4b48"
  }
 ],
 "metadata": {
  "kernelspec": {
   "display_name": "Python 3",
   "language": "python",
   "name": "python3"
  },
  "language_info": {
   "codemirror_mode": {
    "name": "ipython",
    "version": 2
   },
   "file_extension": ".py",
   "mimetype": "text/x-python",
   "name": "python",
   "nbconvert_exporter": "python",
   "pygments_lexer": "ipython2",
   "version": "2.7.6"
  }
 },
 "nbformat": 4,
 "nbformat_minor": 5
}
